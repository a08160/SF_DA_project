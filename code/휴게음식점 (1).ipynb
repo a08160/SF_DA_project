{
 "cells": [
  {
   "cell_type": "code",
   "execution_count": 16,
   "id": "551c2ed0-1dcc-451e-afcb-bca92359e7b2",
   "metadata": {},
   "outputs": [
    {
     "name": "stdout",
     "output_type": "stream",
     "text": [
      "               경도         위도     업태구분명                    행정동\n",
      "0      126.889031  37.496476    일반조리판매         서울특별시 구로구 구로5동\n",
      "1      127.037165  37.528562       백화점         서울특별시 강남구 압구정동\n",
      "2      127.017925  37.583142       커피숍          서울특별시 성북구 보문동\n",
      "3      126.942167  37.479251       커피숍          서울특별시 관악구 청룡동\n",
      "4      126.984166  37.569075  기타 휴게음식점  서울특별시 종로구 종로1·2·3·4가동\n",
      "...           ...        ...       ...                    ...\n",
      "36745  126.858366  37.554653       커피숍         서울특별시 강서구 등촌1동\n",
      "36746  127.042357  37.503812       커피숍         서울특별시 강남구 역삼1동\n",
      "36747  127.007739  37.554250  기타 휴게음식점           서울특별시 중구 다산동\n",
      "36748  127.086858  37.505313  기타 휴게음식점         서울특별시 송파구 잠실본동\n",
      "36749  126.844148  37.530731       커피숍         서울특별시 강서구 화곡1동\n",
      "\n",
      "[36573 rows x 4 columns]\n"
     ]
    }
   ],
   "source": [
    "from pyproj import Proj, Transformer\n",
    "import pandas as pd\n",
    "import geopandas as gpd\n",
    "from shapely.geometry import Point\n",
    "\n",
    "# 데이터 불러오기\n",
    "df = pd.read_csv(\"서울시 휴게음식점 인허가 정보.csv\", encoding=\"EUC-KR\", encoding_errors=\"replace\", low_memory=False)\n",
    "\n",
    "# 중부원점TM (EPSG:2097) → WGS84 (EPSG:4326) 변환기 (방식 변경)\n",
    "tm_proj = Proj(\"epsg:2097\")\n",
    "wgs84_proj = Proj(\"epsg:4326\")\n",
    "transformer = Transformer.from_proj(tm_proj, wgs84_proj, always_xy=True)\n",
    "\n",
    "# 중부원점TM → WGS84 위도/경도 변환 (NaN 값 처리 + 좌표 변환 방식 개선)\n",
    "df[\"경도\"], df[\"위도\"] = zip(*df.apply(\n",
    "    lambda x: transformer.transform(x[\"좌표정보(X)\"], x[\"좌표정보(Y)\"])\n",
    "    if pd.notna(x[\"좌표정보(X)\"]) and pd.notna(x[\"좌표정보(Y)\"]) else (None, None), axis=1\n",
    "))\n",
    "\n",
    "# 영업 중인 지점만 추출\n",
    "df = df[df[\"상세영업상태명\"] == \"영업\"]\n",
    "new_df = df[[\"경도\", \"위도\", \"업태구분명\"]].dropna().reset_index(drop=True)\n",
    "\n",
    "# GeoJSON 파일 읽기 (성능 최적화: 한 번만 로드)\n",
    "geojson_file = \"hangjeongdong_서울특별시.geojson\"\n",
    "gdf = gpd.read_file(geojson_file)\n",
    "\n",
    "# 행정동 정보 추출 함수 (속도 개선)\n",
    "def find_administrative_dong(latitude, longitude, gdf):\n",
    "    point = Point(longitude, latitude)\n",
    "    result = gdf[gdf.contains(point)]\n",
    "    return result.iloc[0][\"adm_nm\"] if not result.empty else \"해당 좌표는 어떤 행정동에도 속하지 않습니다.\"\n",
    "\n",
    "# 행정동을 찾는 함수를 적용\n",
    "new_df[\"행정동\"] = new_df.apply(lambda x: find_administrative_dong(x[\"위도\"], x[\"경도\"], gdf), axis=1)\n",
    "\n",
    "# 결과 출력\n",
    "full_data = new_df[new_df[\"행정동\"] != \"해당 좌표는 어떤 행정동에도 속하지 않습니다.\"]\n",
    "print(full_data)"
   ]
  },
  {
   "cell_type": "code",
   "execution_count": 22,
   "id": "4b8e6f15-0093-4ed9-8b1e-5d4a1d40e20c",
   "metadata": {},
   "outputs": [],
   "source": [
    "final_data = pd.pivot_table(full_data, index=\"업태구분명\", columns=\"행정동\", aggfunc=\"size\", fill_value=0)"
   ]
  },
  {
   "cell_type": "code",
   "execution_count": 26,
   "id": "d6923cb5-525c-4507-a543-b0279d0f0c7b",
   "metadata": {},
   "outputs": [],
   "source": [
    "final_data.to_excel(\"cafe_data.xlsx\")"
   ]
  }
 ],
 "metadata": {
  "kernelspec": {
   "display_name": "Python 3 (ipykernel)",
   "language": "python",
   "name": "python3"
  },
  "language_info": {
   "codemirror_mode": {
    "name": "ipython",
    "version": 3
   },
   "file_extension": ".py",
   "mimetype": "text/x-python",
   "name": "python",
   "nbconvert_exporter": "python",
   "pygments_lexer": "ipython3",
   "version": "3.12.4"
  }
 },
 "nbformat": 4,
 "nbformat_minor": 5
}
